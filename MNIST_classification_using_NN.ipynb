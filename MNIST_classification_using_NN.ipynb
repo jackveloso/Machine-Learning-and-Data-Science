{
 "cells": [
  {
   "cell_type": "markdown",
   "metadata": {},
   "source": [
    "# Implementation of a  neural network on the MNIST dataset via tensorflow"
   ]
  },
  {
   "cell_type": "markdown",
   "metadata": {},
   "source": [
    "First we import the requried libraries"
   ]
  },
  {
   "cell_type": "code",
   "execution_count": 24,
   "metadata": {},
   "outputs": [],
   "source": [
    "import matplotlib.pyplot as plt\n",
    "import numpy as np\n",
    "import tensorflow as tf\n",
    "from tensorflow.examples.tutorials.mnist import input_data"
   ]
  },
  {
   "cell_type": "markdown",
   "metadata": {},
   "source": [
    "Next we load the mnist data set, and print the 5th test sample with its label as a one-hot vector"
   ]
  },
  {
   "cell_type": "code",
   "execution_count": 25,
   "metadata": {},
   "outputs": [
    {
     "name": "stdout",
     "output_type": "stream",
     "text": [
      "Extracting MNIST_data/train-images-idx3-ubyte.gz\n",
      "Extracting MNIST_data/train-labels-idx1-ubyte.gz\n",
      "Extracting MNIST_data/t10k-images-idx3-ubyte.gz\n",
      "Extracting MNIST_data/t10k-labels-idx1-ubyte.gz\n",
      "one-hot vector [0. 1. 0. 0. 0. 0. 0. 0. 0. 0.]\n"
     ]
    },
    {
     "data": {
      "image/png": "[encoded data removed]",
      "text/plain": [
       "<matplotlib.figure.Figure at 0x18d169efcf8>"
      ]
     },
     "metadata": {},
     "output_type": "display_data"
    }
   ],
   "source": [
    "mnist = input_data.read_data_sets(\"MNIST_data/\", one_hot=True)\n",
    "print('one-hot vector', mnist.test.labels[5])\n",
    "plt.imshow(mnist.test.images[5].reshape((28, 28)), cmap=\"gray\")\n",
    "plt.show()"
   ]
  },
  {
   "cell_type": "markdown",
   "metadata": {},
   "source": [
    "# Modeling of the computational graph/neural network"
   ]
  },
  {
   "cell_type": "markdown",
   "metadata": {},
   "source": [
    "We first set a placeholder for the input of the neural network, and define the first hidden layer"
   ]
  },
  {
   "cell_type": "code",
   "execution_count": 26,
   "metadata": {},
   "outputs": [],
   "source": [
    "x = tf.placeholder(tf.float32, [None, 784], name=\"data\")\n",
    "# first hidden layer\n",
    "with tf.name_scope(\"layer1\"):\n",
    "    W1 = tf.Variable(tf.truncated_normal((784, 30), stddev=2/np.sqrt(784)),\n",
    "                     name=\"W1\")\n",
    "    b1 = tf.Variable(tf.zeros([30]), name=\"b1\")\n",
    "    hidden1 = tf.matmul(x, W1)+b1\n",
    "with tf.name_scope(\"ReLU1\"):\n",
    "    hidden1ReLU = tf.nn.relu(hidden1)"
   ]
  },
  {
   "cell_type": "markdown",
   "metadata": {},
   "source": [
    "We do the same with the second, third hidden layer and the output layer"
   ]
  },
  {
   "cell_type": "code",
   "execution_count": 27,
   "metadata": {},
   "outputs": [],
   "source": [
    "# second layer\n",
    "with tf.name_scope(\"layer2\"):\n",
    "    W2 = tf.Variable(tf.truncated_normal((30, 30), stddev=2/np.sqrt(30)),\n",
    "                     name=\"W2\")\n",
    "    b2 = tf.Variable(tf.zeros([30]), name=\"b2\")\n",
    "    hidden2 = tf.matmul(hidden1ReLU, W2)+b2\n",
    "with tf.name_scope(\"ReLU2\"):\n",
    "    hidden2ReLU = tf.nn.relu(hidden2)\n",
    "# third layer\n",
    "with tf.name_scope(\"output_layerrr\"):\n",
    "    W3 = tf.Variable(tf.truncated_normal((30, 10), stddev=2/np.sqrt(30)),\n",
    "                     name=\"W3\")\n",
    "    b3 = tf.Variable(tf.zeros([10]), name=\"b3\")\n",
    "    # output layer\n",
    "    Phi = tf.matmul(hidden2ReLU, W3)+b3"
   ]
  },
  {
   "cell_type": "markdown",
   "metadata": {},
   "source": [
    "Next we define a loss function and a placeholder for the labels in the lossfunction"
   ]
  },
  {
   "cell_type": "code",
   "execution_count": 28,
   "metadata": {},
   "outputs": [],
   "source": [
    "z = tf.placeholder(tf.float32, [None, 10])\n",
    "loss = tf.reduce_mean(tf.nn.softmax_cross_entropy_with_logits_v2(labels=z,\n",
    "                                                                 logits=Phi))"
   ]
  },
  {
   "cell_type": "markdown",
   "metadata": {},
   "source": [
    "And in the last step of the modeling phase, we define which optimizer we choose, in this case  gradient descent with learningrate 0.5"
   ]
  },
  {
   "cell_type": "code",
   "execution_count": 29,
   "metadata": {},
   "outputs": [],
   "source": [
    "learningrate = 0.5\n",
    "train_step = tf.train.GradientDescentOptimizer(learningrate).minimize(loss)"
   ]
  },
  {
   "cell_type": "markdown",
   "metadata": {},
   "source": [
    "# Training"
   ]
  },
  {
   "cell_type": "markdown",
   "metadata": {},
   "source": [
    "Now we will train the network for 10000 epochs, with a batchsize of 100 samples"
   ]
  },
  {
   "cell_type": "code",
   "execution_count": 30,
   "metadata": {},
   "outputs": [],
   "source": [
    "sess = tf.InteractiveSession()\n",
    "tf.global_variables_initializer().run()\n",
    "for _ in range(10000):\n",
    "    batch_xs, batch_ys = mnist.train.next_batch(100)\n",
    "    sess.run(train_step, feed_dict={x: batch_xs, z: batch_ys})"
   ]
  },
  {
   "cell_type": "markdown",
   "metadata": {},
   "source": [
    "# Testing"
   ]
  },
  {
   "cell_type": "markdown",
   "metadata": {},
   "source": [
    "Next we test and calculate the accuracy of our classifier"
   ]
  },
  {
   "cell_type": "code",
   "execution_count": 31,
   "metadata": {},
   "outputs": [
    {
     "name": "stdout",
     "output_type": "stream",
     "text": [
      "0.9625\n"
     ]
    }
   ],
   "source": [
    "correct_prediction = tf.equal(tf.argmax(Phi, 1), tf.argmax(z, 1))\n",
    "accuracy = tf.reduce_mean(tf.cast(correct_prediction, tf.float32))\n",
    "print(sess.run(accuracy, feed_dict={x: mnist.test.images,\n",
    "                                    z: mnist.test.labels}))"
   ]
  },
  {
   "cell_type": "markdown",
   "metadata": {},
   "source": [
    "Last but not least, we test our classifier on a given test sample"
   ]
  },
  {
   "cell_type": "code",
   "execution_count": 32,
   "metadata": {},
   "outputs": [
    {
     "data": {
      "image/png": "[encoded data removed]",
      "text/plain": [
       "<matplotlib.figure.Figure at 0x18d1847ccf8>"
      ]
     },
     "metadata": {},
     "output_type": "display_data"
    },
    {
     "name": "stdout",
     "output_type": "stream",
     "text": [
      "[[9.9999988e-01 2.0124167e-16 1.2724037e-07 4.3917897e-10 4.8021959e-10\n",
      "  5.0284004e-09 3.9064407e-08 4.6223372e-12 4.3122289e-10 5.2331188e-09]]\n"
     ]
    }
   ],
   "source": [
    "plt.imshow(mnist.test.images[10].reshape((28, 28)), cmap=\"gray\")\n",
    "plt.show()\n",
    "Z = Phi.eval(feed_dict={x: mnist.test.images[10].reshape(1, 784)})\n",
    "print(sess.run(tf.nn.softmax(Z)))\n",
    "sess.close()"
   ]
  },
  {
   "cell_type": "markdown",
   "metadata": {},
   "source": [
    "As we can see, we have a prediction of 99.5 % that the digit in this image is a 0 !"
   ]
  },
  {
   "cell_type": "code",
   "execution_count": null,
   "metadata": {},
   "outputs": [],
   "source": []
  }
 ],
 "metadata": {
  "kernelspec": {
   "display_name": "Python 3",
   "language": "python",
   "name": "python3"
  },
  "language_info": {
   "codemirror_mode": {
    "name": "ipython",
    "version": 3
   },
   "file_extension": ".py",
   "mimetype": "text/x-python",
   "name": "python",
   "nbconvert_exporter": "python",
   "pygments_lexer": "ipython3",
   "version": "3.6.2"
  }
 },
 "nbformat": 4,
 "nbformat_minor": 2
}
