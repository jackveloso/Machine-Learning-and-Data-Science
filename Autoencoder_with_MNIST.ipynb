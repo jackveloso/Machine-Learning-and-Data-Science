{
 "cells": [
  {
   "cell_type": "markdown",
   "metadata": {},
   "source": [
    "# Implementation of a nonlinear Autoencoder on the MNIST data set"
   ]
  },
  {
   "cell_type": "markdown",
   "metadata": {},
   "source": [
    "First we import the necessary libraries."
   ]
  },
  {
   "cell_type": "code",
   "execution_count": 48,
   "metadata": {},
   "outputs": [],
   "source": [
    "import tensorflow as tf\n",
    "import numpy as np\n",
    "import matplotlib.pyplot as plt"
   ]
  },
  {
   "cell_type": "markdown",
   "metadata": {},
   "source": [
    "Next, we load the classical MNIST dataset."
   ]
  },
  {
   "cell_type": "code",
   "execution_count": 49,
   "metadata": {},
   "outputs": [
    {
     "name": "stdout",
     "output_type": "stream",
     "text": [
      "Extracting MNIST_data/train-images-idx3-ubyte.gz\n",
      "Extracting MNIST_data/train-labels-idx1-ubyte.gz\n",
      "Extracting MNIST_data/t10k-images-idx3-ubyte.gz\n",
      "Extracting MNIST_data/t10k-labels-idx1-ubyte.gz\n"
     ]
    }
   ],
   "source": [
    "from tensorflow.examples.tutorials.mnist import input_data\n",
    "mnist = input_data.read_data_sets(\"MNIST_data/\", one_hot=True)"
   ]
  },
  {
   "cell_type": "markdown",
   "metadata": {},
   "source": [
    "Now we define a nonlinear autoencorder neural network, with tied weights, and layers of size (784, 100, 30, 100, 784) accordingly. We use ReLU as the activation function."
   ]
  },
  {
   "cell_type": "code",
   "execution_count": 58,
   "metadata": {},
   "outputs": [],
   "source": [
    "x = tf.placeholder(tf.float32, [None, 784], name = \"data\") #inputs\n",
    "#first layer\n",
    "with tf.name_scope(\"layer1\"):\n",
    "    W1 = tf.Variable(tf.truncated_normal((784, 100) , stddev = 2/np.sqrt(784)), name = \"W1\")\n",
    "    b1 = tf.Variable(tf.zeros([100]), name = \"b1\")\n",
    "    hidden1 = tf.matmul(xnois,W1)+b1\n",
    "with tf.name_scope(\"ReLU1\"):\n",
    "    hidden1eLU = tf.nn.elu(hidden1)\n",
    "#second layer\n",
    "with tf.name_scope(\"layer2\"):\n",
    "    W2 = tf.Variable(tf.truncated_normal((100, 30), stddev = 2/np.sqrt(100)), name = \"W2\")\n",
    "    b2 = tf.Variable(tf.zeros([30]), name = \"b2\")\n",
    "    hidden2 = tf.matmul(hidden1eLU,W2)+b2\n",
    "with tf.name_scope(\"ReLU2\"):\n",
    "    hidden2eLU = tf.nn.elu(hidden2)\n",
    "    \n",
    "#third layer\n",
    "with tf.name_scope(\"layer3\"):\n",
    "    W3 = tf.transpose(W2, name = \"W3\")\n",
    "    b3 = tf.Variable(tf.zeros([100]), name = \"b3\")\n",
    "    hidden3 = tf.matmul(hidden2eLU,W3)+b3\n",
    "with tf.name_scope(\"ReLU3\"):\n",
    "    hidden3eLU = tf.nn.elu(hidden3)\n",
    "#output layer\n",
    "with tf.name_scope(\"output_layer\"):\n",
    "    W4 = tf.transpose(W1, name = \"W4\")\n",
    "    b4 = tf.Variable(tf.zeros([784]), name = \"b4\")\n",
    "    outputs = tf.matmul(hidden3eLU,W4)+b4"
   ]
  },
  {
   "cell_type": "markdown",
   "metadata": {},
   "source": [
    "We will use the L_2 regularizer on the hidden weights and the lossfunctuion is the MSE."
   ]
  },
  {
   "cell_type": "code",
   "execution_count": 59,
   "metadata": {},
   "outputs": [],
   "source": [
    "regularizer = tf.contrib.layers.l2_regularizer(0.0001) #add regularizer!\n",
    "loss = tf.reduce_mean(tf.square(outputs - x)) + regularizer(W1) + regularizer(W2)"
   ]
  },
  {
   "cell_type": "markdown",
   "metadata": {},
   "source": [
    "With a learningrate of 0.01, we optimize the MSE with AdamOptimzer."
   ]
  },
  {
   "cell_type": "code",
   "execution_count": 60,
   "metadata": {},
   "outputs": [],
   "source": [
    "learning_rate = 0.01\n",
    "optimizer = tf.train.AdamOptimizer(learning_rate)\n",
    "training_op = optimizer.minimize(loss)"
   ]
  },
  {
   "cell_type": "markdown",
   "metadata": {},
   "source": [
    "Next we initialize the weights and biases, and save our model in case we want to test different models."
   ]
  },
  {
   "cell_type": "code",
   "execution_count": 61,
   "metadata": {},
   "outputs": [],
   "source": [
    "init = tf.global_variables_initializer()\n",
    "saver = tf.train.Saver()"
   ]
  },
  {
   "cell_type": "markdown",
   "metadata": {},
   "source": [
    "Let the training begin!"
   ]
  },
  {
   "cell_type": "code",
   "execution_count": 62,
   "metadata": {},
   "outputs": [
    {
     "name": "stdout",
     "output_type": "stream",
     "text": [
      "0 Train MSE: 0.03330459\n",
      "1 Train MSE: 0.024626449\n",
      "2 Train MSE: 0.022898646\n",
      "3 Train MSE: 0.02226261\n",
      "4 Train MSE: 0.023485953\n",
      "5 Train MSE: 0.021441134\n",
      "6 Train MSE: 0.022820167\n",
      "7 Train MSE: 0.0220843\n",
      "8 Train MSE: 0.022048704\n",
      "9 Train MSE: 0.021408262\n",
      "10 Train MSE: 0.022301998\n",
      "11 Train MSE: 0.021990087\n",
      "12 Train MSE: 0.021897692\n",
      "13 Train MSE: 0.022199659\n",
      "14 Train MSE: 0.022047577\n"
     ]
    }
   ],
   "source": [
    "n_epochs = 15\n",
    "batch_size = 250\n",
    "with tf.Session() as sess:\n",
    "    init.run()\n",
    "    for epoch in range(n_epochs):\n",
    "        n_batches = mnist.train.num_examples // batch_size\n",
    "        for iteration in range(n_batches):\n",
    "            x_batch, y_batch = mnist.train.next_batch(batch_size)\n",
    "            sess.run(training_op, feed_dict ={x: x_batch})\n",
    "            loss_train = loss.eval(feed_dict = {x: x_batch})\n",
    "        print(\"\\r{}\".format(epoch), \"Train MSE:\", loss_train)\n",
    "    saver.save(sess, \"./autoencoder_tied.ckpt\")"
   ]
  },
  {
   "cell_type": "markdown",
   "metadata": {},
   "source": [
    "Next we implement a function which shows the original input digit, and its reconstruction."
   ]
  },
  {
   "cell_type": "code",
   "execution_count": 63,
   "metadata": {},
   "outputs": [],
   "source": [
    "def show_reconstruction(original, model_path = None , n_test_digits = 1):\n",
    "    with tf.Session() as sess:\n",
    "        if model_path:\n",
    "            saver.restore(sess, model_path)\n",
    "            reconstruction = outputs.eval(feed_dict={x: [original]})\n",
    "  \n",
    "    fig = plt.figure(figsize=(8, 3 * n_test_digits))\n",
    "    plt.subplot(1, 2, 1)\n",
    "    plot_image(original)\n",
    "    plt.subplot(1, 2, 2)\n",
    "    plot_image(reconstruction)\n",
    "\n",
    "def plot_image(image, shape = [28,28]):\n",
    "    plt.imshow(image.reshape(shape), cmap = \"Greys\", interpolation = \"nearest\")\n",
    "    plt.axis(\"off\")\n",
    "    plt.show()"
   ]
  },
  {
   "cell_type": "markdown",
   "metadata": {},
   "source": [
    "We test the reconstruction on the first sample of the MNIST dataset."
   ]
  },
  {
   "cell_type": "code",
   "execution_count": 64,
   "metadata": {},
   "outputs": [
    {
     "name": "stdout",
     "output_type": "stream",
     "text": [
      "INFO:tensorflow:Restoring parameters from ./autoencoder_tied.ckpt\n"
     ]
    },
    {
     "data": {
      "image/png": "[encoded data removed]",
      "text/plain": [
       "<matplotlib.figure.Figure at 0x1c587115c88>"
      ]
     },
     "metadata": {},
     "output_type": "display_data"
    },
    {
     "data": {
      "image/png": "[encoded data removed]",
      "text/plain": [
       "<matplotlib.figure.Figure at 0x1c5e8c246d8>"
      ]
     },
     "metadata": {},
     "output_type": "display_data"
    }
   ],
   "source": [
    "original = mnist.test.images[0]\n",
    "show_reconstruction(original, \"./autoencoder_tied.ckpt\",1)"
   ]
  },
  {
   "cell_type": "markdown",
   "metadata": {},
   "source": [
    "For those who are curious, let's check out how the weights look."
   ]
  },
  {
   "cell_type": "code",
   "execution_count": 65,
   "metadata": {},
   "outputs": [
    {
     "name": "stdout",
     "output_type": "stream",
     "text": [
      "INFO:tensorflow:Restoring parameters from ./autoencoder_tied.ckpt\n"
     ]
    },
    {
     "data": {
      "image/png": "[encoded data removed]",
      "text/plain": [
       "<matplotlib.figure.Figure at 0x1c588c46470>"
      ]
     },
     "metadata": {},
     "output_type": "display_data"
    },
    {
     "data": {
      "image/png": "[encoded data removed]",
      "text/plain": [
       "<matplotlib.figure.Figure at 0x1c58022ac18>"
      ]
     },
     "metadata": {},
     "output_type": "display_data"
    },
    {
     "data": {
      "image/png": "[encoded data removed]",
      "text/plain": [
       "<matplotlib.figure.Figure at 0x1c58705b128>"
      ]
     },
     "metadata": {},
     "output_type": "display_data"
    },
    {
     "data": {
      "image/png": "[encoded data removed]",
      "text/plain": [
       "<matplotlib.figure.Figure at 0x1c58a298908>"
      ]
     },
     "metadata": {},
     "output_type": "display_data"
    }
   ],
   "source": [
    "with tf.Session() as sess:\n",
    "    saver.restore(sess, \"./autoencoder_tied.ckpt\") \n",
    "    weights1_val = W1.eval()\n",
    "\n",
    "n_features = 4\n",
    "for i in range(n_features):\n",
    "    plt.subplot(1, n_features, i + 1)\n",
    "    plot_image(weights1_val.T[i])\n",
    "    \n",
    "plt.show()      "
   ]
  },
  {
   "cell_type": "markdown",
   "metadata": {},
   "source": [
    "We can also train our autoencoder on (X_noise, X) where X_noise is the original X with some white gaussian noise for example. This helps the autoencoder to get rid of the noise, but this is for another time."
   ]
  }
 ],
 "metadata": {
  "kernelspec": {
   "display_name": "Python 3",
   "language": "python",
   "name": "python3"
  },
  "language_info": {
   "codemirror_mode": {
    "name": "ipython",
    "version": 3
   },
   "file_extension": ".py",
   "mimetype": "text/x-python",
   "name": "python",
   "nbconvert_exporter": "python",
   "pygments_lexer": "ipython3",
   "version": "3.6.2"
  }
 },
 "nbformat": 4,
 "nbformat_minor": 2
}
